{
 "cells": [
  {
   "cell_type": "code",
   "execution_count": 19,
   "metadata": {},
   "outputs": [],
   "source": [
    "#### Importing the required libraries Setting the working Directory and importing the Dataset ####\n",
    "import os\n",
    "import pandas as pd\n",
    "import numpy as np\n",
    "import matplotlib.pyplot as plt\n",
    "import seaborn as sns\n",
    "from scipy.stats import chi2_contingency\n",
    "os.chdir(\"D:/python & R/Projects/Cab Fare Prediction\")\n",
    "train_set = pd.read_csv(\"train_cab.csv\")\n",
    "test_set = pd.read_csv(\"test.csv\")"
   ]
  },
  {
   "cell_type": "code",
   "execution_count": 20,
   "metadata": {
    "scrolled": true
   },
   "outputs": [
    {
     "name": "stderr",
     "output_type": "stream",
     "text": [
      "C:\\Users\\acer\\Anaconda3\\lib\\site-packages\\ipykernel_launcher.py:2: FutureWarning: Sorting because non-concatenation axis is not aligned. A future version\n",
      "of pandas will change to not sort by default.\n",
      "\n",
      "To accept the future behavior, pass 'sort=True'.\n",
      "\n",
      "To retain the current behavior and silence the warning, pass sort=False\n",
      "\n",
      "  \n"
     ]
    }
   ],
   "source": [
    "#### Joining the Train set and Test Set ###\n",
    "Data =pd.concat([train_set,test_set], axis=0)\n",
    "Data = Data.reset_index(drop=True)"
   ]
  },
  {
   "cell_type": "code",
   "execution_count": 21,
   "metadata": {},
   "outputs": [
    {
     "name": "stdout",
     "output_type": "stream",
     "text": [
      "<class 'pandas.core.frame.DataFrame'>\n",
      "RangeIndex: 25981 entries, 0 to 25980\n",
      "Data columns (total 7 columns):\n",
      "dropoff_latitude     25981 non-null float64\n",
      "dropoff_longitude    25981 non-null float64\n",
      "fare_amount          16043 non-null object\n",
      "passenger_count      25926 non-null float64\n",
      "pickup_datetime      25981 non-null object\n",
      "pickup_latitude      25981 non-null float64\n",
      "pickup_longitude     25981 non-null float64\n",
      "dtypes: float64(5), object(2)\n",
      "memory usage: 1.4+ MB\n"
     ]
    }
   ],
   "source": [
    "Data.info()"
   ]
  },
  {
   "cell_type": "code",
   "execution_count": 22,
   "metadata": {},
   "outputs": [
    {
     "data": {
      "text/plain": [
       "Index(['dropoff_latitude', 'dropoff_longitude', 'fare_amount',\n",
       "       'passenger_count', 'pickup_datetime', 'pickup_latitude',\n",
       "       'pickup_longitude'],\n",
       "      dtype='object')"
      ]
     },
     "execution_count": 22,
     "metadata": {},
     "output_type": "execute_result"
    }
   ],
   "source": [
    "#### Understanding the Data ####\n",
    "Data.columns"
   ]
  },
  {
   "cell_type": "code",
   "execution_count": 23,
   "metadata": {},
   "outputs": [
    {
     "data": {
      "text/html": [
       "<div>\n",
       "<style scoped>\n",
       "    .dataframe tbody tr th:only-of-type {\n",
       "        vertical-align: middle;\n",
       "    }\n",
       "\n",
       "    .dataframe tbody tr th {\n",
       "        vertical-align: top;\n",
       "    }\n",
       "\n",
       "    .dataframe thead th {\n",
       "        text-align: right;\n",
       "    }\n",
       "</style>\n",
       "<table border=\"1\" class=\"dataframe\">\n",
       "  <thead>\n",
       "    <tr style=\"text-align: right;\">\n",
       "      <th></th>\n",
       "      <th>dropoff_latitude</th>\n",
       "      <th>dropoff_longitude</th>\n",
       "      <th>passenger_count</th>\n",
       "      <th>pickup_latitude</th>\n",
       "      <th>pickup_longitude</th>\n",
       "    </tr>\n",
       "  </thead>\n",
       "  <tbody>\n",
       "    <tr>\n",
       "      <th>dropoff_latitude</th>\n",
       "      <td>1.000000</td>\n",
       "      <td>-0.978197</td>\n",
       "      <td>-0.000508</td>\n",
       "      <td>0.883000</td>\n",
       "      <td>-0.952288</td>\n",
       "    </tr>\n",
       "    <tr>\n",
       "      <th>dropoff_longitude</th>\n",
       "      <td>-0.978197</td>\n",
       "      <td>1.000000</td>\n",
       "      <td>0.000511</td>\n",
       "      <td>-0.864221</td>\n",
       "      <td>0.964045</td>\n",
       "    </tr>\n",
       "    <tr>\n",
       "      <th>passenger_count</th>\n",
       "      <td>-0.000508</td>\n",
       "      <td>0.000511</td>\n",
       "      <td>1.000000</td>\n",
       "      <td>-0.000491</td>\n",
       "      <td>0.000500</td>\n",
       "    </tr>\n",
       "    <tr>\n",
       "      <th>pickup_latitude</th>\n",
       "      <td>0.883000</td>\n",
       "      <td>-0.864221</td>\n",
       "      <td>-0.000491</td>\n",
       "      <td>1.000000</td>\n",
       "      <td>-0.894925</td>\n",
       "    </tr>\n",
       "    <tr>\n",
       "      <th>pickup_longitude</th>\n",
       "      <td>-0.952288</td>\n",
       "      <td>0.964045</td>\n",
       "      <td>0.000500</td>\n",
       "      <td>-0.894925</td>\n",
       "      <td>1.000000</td>\n",
       "    </tr>\n",
       "  </tbody>\n",
       "</table>\n",
       "</div>"
      ],
      "text/plain": [
       "                   dropoff_latitude  dropoff_longitude  passenger_count  \\\n",
       "dropoff_latitude           1.000000          -0.978197        -0.000508   \n",
       "dropoff_longitude         -0.978197           1.000000         0.000511   \n",
       "passenger_count           -0.000508           0.000511         1.000000   \n",
       "pickup_latitude            0.883000          -0.864221        -0.000491   \n",
       "pickup_longitude          -0.952288           0.964045         0.000500   \n",
       "\n",
       "                   pickup_latitude  pickup_longitude  \n",
       "dropoff_latitude          0.883000         -0.952288  \n",
       "dropoff_longitude        -0.864221          0.964045  \n",
       "passenger_count          -0.000491          0.000500  \n",
       "pickup_latitude           1.000000         -0.894925  \n",
       "pickup_longitude         -0.894925          1.000000  "
      ]
     },
     "execution_count": 23,
     "metadata": {},
     "output_type": "execute_result"
    }
   ],
   "source": [
    "Data.corr()"
   ]
  },
  {
   "cell_type": "code",
   "execution_count": 24,
   "metadata": {},
   "outputs": [
    {
     "name": "stdout",
     "output_type": "stream",
     "text": [
      "<class 'pandas.core.frame.DataFrame'>\n",
      "RangeIndex: 25981 entries, 0 to 25980\n",
      "Data columns (total 7 columns):\n",
      "dropoff_latitude     25981 non-null float64\n",
      "dropoff_longitude    25981 non-null float64\n",
      "fare_amount          16043 non-null object\n",
      "passenger_count      25926 non-null float64\n",
      "pickup_datetime      25981 non-null object\n",
      "pickup_latitude      25981 non-null float64\n",
      "pickup_longitude     25981 non-null float64\n",
      "dtypes: float64(5), object(2)\n",
      "memory usage: 1.4+ MB\n"
     ]
    }
   ],
   "source": [
    "Data.info()"
   ]
  },
  {
   "cell_type": "code",
   "execution_count": 6,
   "metadata": {},
   "outputs": [],
   "source": [
    "######## Removing the Pickup_datetime variable to avoid Curse of dimensionality ########"
   ]
  },
  {
   "cell_type": "code",
   "execution_count": 25,
   "metadata": {},
   "outputs": [],
   "source": [
    "Data=Data.drop(columns='pickup_datetime')\n"
   ]
  },
  {
   "cell_type": "code",
   "execution_count": 26,
   "metadata": {},
   "outputs": [
    {
     "data": {
      "text/html": [
       "<div>\n",
       "<style scoped>\n",
       "    .dataframe tbody tr th:only-of-type {\n",
       "        vertical-align: middle;\n",
       "    }\n",
       "\n",
       "    .dataframe tbody tr th {\n",
       "        vertical-align: top;\n",
       "    }\n",
       "\n",
       "    .dataframe thead th {\n",
       "        text-align: right;\n",
       "    }\n",
       "</style>\n",
       "<table border=\"1\" class=\"dataframe\">\n",
       "  <thead>\n",
       "    <tr style=\"text-align: right;\">\n",
       "      <th></th>\n",
       "      <th>dropoff_latitude</th>\n",
       "      <th>dropoff_longitude</th>\n",
       "      <th>passenger_count</th>\n",
       "      <th>pickup_latitude</th>\n",
       "      <th>pickup_longitude</th>\n",
       "    </tr>\n",
       "  </thead>\n",
       "  <tbody>\n",
       "    <tr>\n",
       "      <th>dropoff_latitude</th>\n",
       "      <td>1.000000</td>\n",
       "      <td>-0.978197</td>\n",
       "      <td>-0.000508</td>\n",
       "      <td>0.883000</td>\n",
       "      <td>-0.952288</td>\n",
       "    </tr>\n",
       "    <tr>\n",
       "      <th>dropoff_longitude</th>\n",
       "      <td>-0.978197</td>\n",
       "      <td>1.000000</td>\n",
       "      <td>0.000511</td>\n",
       "      <td>-0.864221</td>\n",
       "      <td>0.964045</td>\n",
       "    </tr>\n",
       "    <tr>\n",
       "      <th>passenger_count</th>\n",
       "      <td>-0.000508</td>\n",
       "      <td>0.000511</td>\n",
       "      <td>1.000000</td>\n",
       "      <td>-0.000491</td>\n",
       "      <td>0.000500</td>\n",
       "    </tr>\n",
       "    <tr>\n",
       "      <th>pickup_latitude</th>\n",
       "      <td>0.883000</td>\n",
       "      <td>-0.864221</td>\n",
       "      <td>-0.000491</td>\n",
       "      <td>1.000000</td>\n",
       "      <td>-0.894925</td>\n",
       "    </tr>\n",
       "    <tr>\n",
       "      <th>pickup_longitude</th>\n",
       "      <td>-0.952288</td>\n",
       "      <td>0.964045</td>\n",
       "      <td>0.000500</td>\n",
       "      <td>-0.894925</td>\n",
       "      <td>1.000000</td>\n",
       "    </tr>\n",
       "  </tbody>\n",
       "</table>\n",
       "</div>"
      ],
      "text/plain": [
       "                   dropoff_latitude  dropoff_longitude  passenger_count  \\\n",
       "dropoff_latitude           1.000000          -0.978197        -0.000508   \n",
       "dropoff_longitude         -0.978197           1.000000         0.000511   \n",
       "passenger_count           -0.000508           0.000511         1.000000   \n",
       "pickup_latitude            0.883000          -0.864221        -0.000491   \n",
       "pickup_longitude          -0.952288           0.964045         0.000500   \n",
       "\n",
       "                   pickup_latitude  pickup_longitude  \n",
       "dropoff_latitude          0.883000         -0.952288  \n",
       "dropoff_longitude        -0.864221          0.964045  \n",
       "passenger_count          -0.000491          0.000500  \n",
       "pickup_latitude           1.000000         -0.894925  \n",
       "pickup_longitude         -0.894925          1.000000  "
      ]
     },
     "execution_count": 26,
     "metadata": {},
     "output_type": "execute_result"
    }
   ],
   "source": [
    "Data.corr()"
   ]
  },
  {
   "cell_type": "code",
   "execution_count": 27,
   "metadata": {},
   "outputs": [
    {
     "data": {
      "text/plain": [
       "dropoff_latitude        0\n",
       "dropoff_longitude       0\n",
       "fare_amount          9938\n",
       "passenger_count        55\n",
       "pickup_latitude         0\n",
       "pickup_longitude        0\n",
       "dtype: int64"
      ]
     },
     "execution_count": 27,
     "metadata": {},
     "output_type": "execute_result"
    }
   ],
   "source": [
    "Data.isnull().sum()"
   ]
  },
  {
   "cell_type": "code",
   "execution_count": 13,
   "metadata": {},
   "outputs": [
    {
     "data": {
      "text/plain": [
       "9993"
      ]
     },
     "execution_count": 13,
     "metadata": {},
     "output_type": "execute_result"
    }
   ],
   "source": [
    "9938+55"
   ]
  },
  {
   "cell_type": "code",
   "execution_count": 28,
   "metadata": {},
   "outputs": [
    {
     "data": {
      "text/html": [
       "<div>\n",
       "<style scoped>\n",
       "    .dataframe tbody tr th:only-of-type {\n",
       "        vertical-align: middle;\n",
       "    }\n",
       "\n",
       "    .dataframe tbody tr th {\n",
       "        vertical-align: top;\n",
       "    }\n",
       "\n",
       "    .dataframe thead th {\n",
       "        text-align: right;\n",
       "    }\n",
       "</style>\n",
       "<table border=\"1\" class=\"dataframe\">\n",
       "  <thead>\n",
       "    <tr style=\"text-align: right;\">\n",
       "      <th></th>\n",
       "      <th>variables</th>\n",
       "      <th>Missing_Percentage</th>\n",
       "    </tr>\n",
       "  </thead>\n",
       "  <tbody>\n",
       "    <tr>\n",
       "      <th>0</th>\n",
       "      <td>fare_amount</td>\n",
       "      <td>38.251030</td>\n",
       "    </tr>\n",
       "    <tr>\n",
       "      <th>1</th>\n",
       "      <td>passenger_count</td>\n",
       "      <td>0.211693</td>\n",
       "    </tr>\n",
       "    <tr>\n",
       "      <th>2</th>\n",
       "      <td>dropoff_latitude</td>\n",
       "      <td>0.000000</td>\n",
       "    </tr>\n",
       "    <tr>\n",
       "      <th>3</th>\n",
       "      <td>dropoff_longitude</td>\n",
       "      <td>0.000000</td>\n",
       "    </tr>\n",
       "    <tr>\n",
       "      <th>4</th>\n",
       "      <td>pickup_latitude</td>\n",
       "      <td>0.000000</td>\n",
       "    </tr>\n",
       "    <tr>\n",
       "      <th>5</th>\n",
       "      <td>pickup_longitude</td>\n",
       "      <td>0.000000</td>\n",
       "    </tr>\n",
       "  </tbody>\n",
       "</table>\n",
       "</div>"
      ],
      "text/plain": [
       "           variables  Missing_Percentage\n",
       "0        fare_amount           38.251030\n",
       "1    passenger_count            0.211693\n",
       "2   dropoff_latitude            0.000000\n",
       "3  dropoff_longitude            0.000000\n",
       "4    pickup_latitude            0.000000\n",
       "5   pickup_longitude            0.000000"
      ]
     },
     "execution_count": 28,
     "metadata": {},
     "output_type": "execute_result"
    }
   ],
   "source": [
    "######## Missing value Analysis ########\n",
    "### Takning all the missing values and storing it in the separate datframe ###\n",
    "missing_value = pd.DataFrame(Data.isnull().sum())\n",
    "missing_value=missing_value.reset_index()\n",
    "missing_value = missing_value.rename(columns = {'index': 'variables', 0 : 'Missing_Percentage'})\n",
    "#Calculate percentage\n",
    "missing_value['Missing_Percentage'] = (missing_value['Missing_Percentage']/len(Data))*100\n",
    "\n",
    "#descending order\n",
    "missing_value = missing_value.sort_values('Missing_Percentage', ascending = False).reset_index(drop = True)\n",
    "missing_value"
   ]
  },
  {
   "cell_type": "code",
   "execution_count": 29,
   "metadata": {},
   "outputs": [],
   "source": [
    "#### Missing Value Imputation ####\n",
    "Data['fare_amount']=pd.to_numeric(Data['fare_amount'], errors='coerce')\n",
    "#Imputation method\n",
    "\n",
    "#train_set['fare_amount'].loc[0]= np.nan\n",
    "#actual value = 4.5\n",
    "#mean = 15.015\n",
    "#median = 8.5\n",
    "##### Imputing the missing value the median #####\n",
    "Data = Data.fillna(Data.median())"
   ]
  },
  {
   "cell_type": "code",
   "execution_count": 30,
   "metadata": {},
   "outputs": [],
   "source": [
    "################# outlier analysis #################\n",
    "no_outlier = Data.copy()"
   ]
  },
  {
   "cell_type": "code",
   "execution_count": 31,
   "metadata": {},
   "outputs": [
    {
     "data": {
      "text/plain": [
       "Index(['dropoff_latitude', 'dropoff_longitude', 'fare_amount',\n",
       "       'passenger_count', 'pickup_latitude', 'pickup_longitude'],\n",
       "      dtype='object')"
      ]
     },
     "execution_count": 31,
     "metadata": {},
     "output_type": "execute_result"
    }
   ],
   "source": [
    "no_outlier.columns"
   ]
  },
  {
   "cell_type": "code",
   "execution_count": 32,
   "metadata": {},
   "outputs": [],
   "source": [
    "numeric_var = ['dropoff_latitude', 'dropoff_longitude', 'fare_amount',\n",
    "       'passenger_count', 'pickup_latitude',\n",
    "       'pickup_longitude']"
   ]
  },
  {
   "cell_type": "code",
   "execution_count": 33,
   "metadata": {},
   "outputs": [
    {
     "name": "stdout",
     "output_type": "stream",
     "text": [
      "dropoff_latitude\n",
      "40.68487400000001\n",
      "40.81841800000001\n",
      "dropoff_longitude\n",
      "-74.02844424999998\n",
      "-73.93008625000002\n",
      "fare_amount\n",
      "4.0\n",
      "12.0\n",
      "passenger_count\n",
      "-0.5\n",
      "3.5\n",
      "pickup_latitude\n",
      "40.694806249999985\n",
      "40.81038425000001\n",
      "pickup_longitude\n",
      "-74.02542637499998\n",
      "-73.93778537500002\n"
     ]
    }
   ],
   "source": [
    "for i in numeric_var:\n",
    "    print(i)\n",
    "    q75, q25 = np.percentile(no_outlier.loc[:,i], [75 ,25])\n",
    "    iqr = q75 - q25\n",
    "    min = q25 - (iqr*1.5)\n",
    "    max = q75 + (iqr*1.5)\n",
    "    print(min)\n",
    "    print(max)\n",
    "    no_outlier = no_outlier.drop(no_outlier[no_outlier.loc[:,i] < min].index)\n",
    "    no_outlier = no_outlier.drop(no_outlier[no_outlier.loc[:,i] > max].index)"
   ]
  },
  {
   "cell_type": "code",
   "execution_count": 34,
   "metadata": {
    "scrolled": true
   },
   "outputs": [
    {
     "name": "stdout",
     "output_type": "stream",
     "text": [
      "(25981, 6)\n",
      "(17166, 6)\n"
     ]
    }
   ],
   "source": [
    "print(Data.shape)\n",
    "print(no_outlier.shape)"
   ]
  },
  {
   "cell_type": "code",
   "execution_count": 35,
   "metadata": {},
   "outputs": [
    {
     "data": {
      "text/html": [
       "<div>\n",
       "<style scoped>\n",
       "    .dataframe tbody tr th:only-of-type {\n",
       "        vertical-align: middle;\n",
       "    }\n",
       "\n",
       "    .dataframe tbody tr th {\n",
       "        vertical-align: top;\n",
       "    }\n",
       "\n",
       "    .dataframe thead th {\n",
       "        text-align: right;\n",
       "    }\n",
       "</style>\n",
       "<table border=\"1\" class=\"dataframe\">\n",
       "  <thead>\n",
       "    <tr style=\"text-align: right;\">\n",
       "      <th></th>\n",
       "      <th>dropoff_latitude</th>\n",
       "      <th>dropoff_longitude</th>\n",
       "      <th>fare_amount</th>\n",
       "      <th>passenger_count</th>\n",
       "      <th>pickup_latitude</th>\n",
       "      <th>pickup_longitude</th>\n",
       "    </tr>\n",
       "  </thead>\n",
       "  <tbody>\n",
       "    <tr>\n",
       "      <th>dropoff_latitude</th>\n",
       "      <td>1.000000</td>\n",
       "      <td>0.632498</td>\n",
       "      <td>-0.026595</td>\n",
       "      <td>-0.005640</td>\n",
       "      <td>0.580633</td>\n",
       "      <td>0.405069</td>\n",
       "    </tr>\n",
       "    <tr>\n",
       "      <th>dropoff_longitude</th>\n",
       "      <td>0.632498</td>\n",
       "      <td>1.000000</td>\n",
       "      <td>0.005359</td>\n",
       "      <td>-0.022609</td>\n",
       "      <td>0.387357</td>\n",
       "      <td>0.475608</td>\n",
       "    </tr>\n",
       "    <tr>\n",
       "      <th>fare_amount</th>\n",
       "      <td>-0.026595</td>\n",
       "      <td>0.005359</td>\n",
       "      <td>1.000000</td>\n",
       "      <td>0.013211</td>\n",
       "      <td>-0.034230</td>\n",
       "      <td>-0.025834</td>\n",
       "    </tr>\n",
       "    <tr>\n",
       "      <th>passenger_count</th>\n",
       "      <td>-0.005640</td>\n",
       "      <td>-0.022609</td>\n",
       "      <td>0.013211</td>\n",
       "      <td>1.000000</td>\n",
       "      <td>-0.021795</td>\n",
       "      <td>-0.023605</td>\n",
       "    </tr>\n",
       "    <tr>\n",
       "      <th>pickup_latitude</th>\n",
       "      <td>0.580633</td>\n",
       "      <td>0.387357</td>\n",
       "      <td>-0.034230</td>\n",
       "      <td>-0.021795</td>\n",
       "      <td>1.000000</td>\n",
       "      <td>0.685471</td>\n",
       "    </tr>\n",
       "    <tr>\n",
       "      <th>pickup_longitude</th>\n",
       "      <td>0.405069</td>\n",
       "      <td>0.475608</td>\n",
       "      <td>-0.025834</td>\n",
       "      <td>-0.023605</td>\n",
       "      <td>0.685471</td>\n",
       "      <td>1.000000</td>\n",
       "    </tr>\n",
       "  </tbody>\n",
       "</table>\n",
       "</div>"
      ],
      "text/plain": [
       "                   dropoff_latitude  dropoff_longitude  fare_amount  \\\n",
       "dropoff_latitude           1.000000           0.632498    -0.026595   \n",
       "dropoff_longitude          0.632498           1.000000     0.005359   \n",
       "fare_amount               -0.026595           0.005359     1.000000   \n",
       "passenger_count           -0.005640          -0.022609     0.013211   \n",
       "pickup_latitude            0.580633           0.387357    -0.034230   \n",
       "pickup_longitude           0.405069           0.475608    -0.025834   \n",
       "\n",
       "                   passenger_count  pickup_latitude  pickup_longitude  \n",
       "dropoff_latitude         -0.005640         0.580633          0.405069  \n",
       "dropoff_longitude        -0.022609         0.387357          0.475608  \n",
       "fare_amount               0.013211        -0.034230         -0.025834  \n",
       "passenger_count           1.000000        -0.021795         -0.023605  \n",
       "pickup_latitude          -0.021795         1.000000          0.685471  \n",
       "pickup_longitude         -0.023605         0.685471          1.000000  "
      ]
     },
     "execution_count": 35,
     "metadata": {},
     "output_type": "execute_result"
    }
   ],
   "source": [
    "no_outlier.corr()"
   ]
  },
  {
   "cell_type": "code",
   "execution_count": 36,
   "metadata": {},
   "outputs": [],
   "source": [
    "numeric_columns = list(no_outlier.columns[no_outlier.dtypes != 'category'])\n",
    "# Checking VIF values of numeric columns \n",
    "from statsmodels.stats.outliers_influence import variance_inflation_factor as vf \n",
    "from statsmodels.tools.tools import add_constant \n",
    "numeric_df = add_constant(no_outlier[numeric_columns]) \n",
    "vif = pd.Series([vf(numeric_df.values, i) \n",
    "                 for i in range(numeric_df.shape[1])], \n",
    "                index = numeric_df.columns) "
   ]
  },
  {
   "cell_type": "code",
   "execution_count": 37,
   "metadata": {},
   "outputs": [
    {
     "data": {
      "text/plain": [
       "const                94763918.1\n",
       "dropoff_latitude            2.2\n",
       "dropoff_longitude           1.9\n",
       "fare_amount                 1.0\n",
       "passenger_count             1.0\n",
       "pickup_latitude             2.5\n",
       "pickup_longitude            2.2\n",
       "dtype: float64"
      ]
     },
     "execution_count": 37,
     "metadata": {},
     "output_type": "execute_result"
    }
   ],
   "source": [
    "vif.round(1)"
   ]
  },
  {
   "cell_type": "code",
   "execution_count": 38,
   "metadata": {},
   "outputs": [],
   "source": [
    "################# Building the model #################"
   ]
  },
  {
   "cell_type": "code",
   "execution_count": 39,
   "metadata": {},
   "outputs": [],
   "source": [
    "###Making a matrix of Features and vector of Dependent Variables##"
   ]
  },
  {
   "cell_type": "code",
   "execution_count": 40,
   "metadata": {},
   "outputs": [
    {
     "data": {
      "text/plain": [
       "Index(['dropoff_latitude', 'dropoff_longitude', 'fare_amount',\n",
       "       'passenger_count', 'pickup_latitude', 'pickup_longitude'],\n",
       "      dtype='object')"
      ]
     },
     "execution_count": 40,
     "metadata": {},
     "output_type": "execute_result"
    }
   ],
   "source": [
    "no_outlier.columns"
   ]
  },
  {
   "cell_type": "code",
   "execution_count": 41,
   "metadata": {},
   "outputs": [],
   "source": [
    "y = no_outlier[['fare_amount']].reset_index(drop=True)\n",
    "X = no_outlier[['dropoff_latitude', 'dropoff_longitude',\n",
    "       'passenger_count', 'pickup_latitude',\n",
    "       'pickup_longitude']].reset_index(drop=True)"
   ]
  },
  {
   "cell_type": "code",
   "execution_count": 42,
   "metadata": {},
   "outputs": [
    {
     "name": "stdout",
     "output_type": "stream",
     "text": [
      "(17166, 5)\n",
      "(17166, 1)\n"
     ]
    }
   ],
   "source": [
    "print(X.shape)\n",
    "print(y.shape)"
   ]
  },
  {
   "cell_type": "code",
   "execution_count": 43,
   "metadata": {},
   "outputs": [
    {
     "name": "stderr",
     "output_type": "stream",
     "text": [
      "C:\\Users\\acer\\Anaconda3\\lib\\site-packages\\sklearn\\cross_validation.py:41: DeprecationWarning: This module was deprecated in version 0.18 in favor of the model_selection module into which all the refactored classes and functions are moved. Also note that the interface of the new CV iterators are different from that of this module. This module will be removed in 0.20.\n",
      "  \"This module will be removed in 0.20.\", DeprecationWarning)\n"
     ]
    }
   ],
   "source": [
    "# Splitting the dataset into the Training set and Test set\n",
    "from sklearn.cross_validation import train_test_split\n",
    "X_train, X_test, y_train, y_test = train_test_split(X, y, test_size = 1/3, random_state = 0)\n"
   ]
  },
  {
   "cell_type": "code",
   "execution_count": 44,
   "metadata": {},
   "outputs": [],
   "source": [
    "######## Simple Linear Regression ##########\n",
    "# Fitting Simple Linear Regression to the Training set\n",
    "from sklearn.linear_model import LinearRegression\n",
    "regressor = LinearRegression()\n",
    "model_lr= regressor.fit(X_train, y_train)"
   ]
  },
  {
   "cell_type": "code",
   "execution_count": 45,
   "metadata": {},
   "outputs": [],
   "source": [
    "# Predicting the Test set results\n",
    "y_pred = regressor.predict(X_test)"
   ]
  },
  {
   "cell_type": "code",
   "execution_count": 47,
   "metadata": {},
   "outputs": [
    {
     "name": "stdout",
     "output_type": "stream",
     "text": [
      "MAE\n",
      "1.327820966421147\n",
      "MSE\n",
      "2.8854577422488545\n",
      "RMSE\n",
      "1.6986635164884347\n"
     ]
    }
   ],
   "source": [
    "####Evaluating the model ith the error metrics####\n",
    "from sklearn import metrics\n",
    "###Printing MAE###\n",
    "print(\"MAE\")\n",
    "print(metrics.mean_absolute_error(y_test,y_pred))\n",
    "###Printing MSE###\n",
    "print(\"MSE\")\n",
    "print(metrics.mean_squared_error(y_test,y_pred))\n",
    "###Printing RMSE###\n",
    "print(\"RMSE\")\n",
    "print(np.sqrt(metrics.mean_squared_error(y_test,y_pred)))\n"
   ]
  },
  {
   "cell_type": "code",
   "execution_count": 48,
   "metadata": {},
   "outputs": [],
   "source": [
    "########Decision Tree Regression ##########\n",
    "# Fitting Decision Tree Regression to the dataset\n",
    "from sklearn.tree import DecisionTreeRegressor\n",
    "regressor = DecisionTreeRegressor(random_state = 0)\n",
    "model_dt=regressor.fit(X_train, y_train)\n"
   ]
  },
  {
   "cell_type": "code",
   "execution_count": 49,
   "metadata": {},
   "outputs": [],
   "source": [
    "# Predicting a new result\n",
    "y_pred = regressor.predict(X_test)"
   ]
  },
  {
   "cell_type": "code",
   "execution_count": 29,
   "metadata": {},
   "outputs": [
    {
     "name": "stdout",
     "output_type": "stream",
     "text": [
      "MAE\n",
      "1.5030234183851803\n",
      "MSE\n",
      "4.212084935337295\n",
      "RMSE\n",
      "2.052336457634882\n"
     ]
    }
   ],
   "source": [
    "####Evaluating the model ith the error metrics####\n",
    "from sklearn import metrics\n",
    "###Printing MAE###\n",
    "print(\"MAE\")\n",
    "print(metrics.mean_absolute_error(y_test,y_pred))\n",
    "###Printing MSE###\n",
    "print(\"MSE\")\n",
    "print(metrics.mean_squared_error(y_test,y_pred))\n",
    "###Printing RMSE###\n",
    "print(\"RMSE\")\n",
    "print(np.sqrt(metrics.mean_squared_error(y_test,y_pred)))\n"
   ]
  },
  {
   "cell_type": "code",
   "execution_count": 40,
   "metadata": {},
   "outputs": [
    {
     "data": {
      "text/plain": [
       "array([8.5, 8.5, 8.5, ..., 8.9, 8.5, 6.1])"
      ]
     },
     "execution_count": 40,
     "metadata": {},
     "output_type": "execute_result"
    }
   ],
   "source": [
    "y_pred"
   ]
  },
  {
   "cell_type": "code",
   "execution_count": 50,
   "metadata": {},
   "outputs": [
    {
     "name": "stderr",
     "output_type": "stream",
     "text": [
      "C:\\Users\\acer\\Anaconda3\\lib\\site-packages\\ipykernel_launcher.py:5: DataConversionWarning: A column-vector y was passed when a 1d array was expected. Please change the shape of y to (n_samples,), for example using ravel().\n",
      "  \"\"\"\n"
     ]
    }
   ],
   "source": [
    "######## Random Forest Regression ######## \n",
    "# Fitting Random Forest Regression to the dataset\n",
    "from sklearn.ensemble import RandomForestRegressor\n",
    "regressor = RandomForestRegressor(n_estimators = 10, random_state = 0)\n",
    "model_rf=regressor.fit(X_train, y_train)"
   ]
  },
  {
   "cell_type": "code",
   "execution_count": 51,
   "metadata": {},
   "outputs": [],
   "source": [
    "# Predicting a new result\n",
    "y_pred = regressor.predict(X_test)\n"
   ]
  },
  {
   "cell_type": "code",
   "execution_count": 52,
   "metadata": {},
   "outputs": [
    {
     "name": "stdout",
     "output_type": "stream",
     "text": [
      "MAE\n",
      "1.2284603285564488\n",
      "MSE\n",
      "2.3693851275777704\n",
      "RMSE\n",
      "1.5392807176008443\n"
     ]
    }
   ],
   "source": [
    "####Evaluating the model ith the error metrics####\n",
    "from sklearn import metrics\n",
    "###Printing MAE###\n",
    "print(\"MAE\")\n",
    "print(metrics.mean_absolute_error(y_test,y_pred))\n",
    "###Printing MSE###\n",
    "print(\"MSE\")\n",
    "print(metrics.mean_squared_error(y_test,y_pred))\n",
    "###Printing RMSE###\n",
    "print(\"RMSE\")\n",
    "print(np.sqrt(metrics.mean_squared_error(y_test,y_pred)))\n"
   ]
  },
  {
   "cell_type": "code",
   "execution_count": null,
   "metadata": {},
   "outputs": [],
   "source": [
    "###### FOR LINEAR REGRESSION #####\n",
    "# MAE\n",
    "# 1.327820966421147\n",
    "# MSE\n",
    "# 2.8854577422488545\n",
    "# RMSE\n",
    "# 1.6986635164884347\n",
    "###### DECISION TREE REGRESSION #####\n",
    "# MAE\n",
    "# 1.5030234183851803\n",
    "# MSE\n",
    "# 4.212084935337295\n",
    "# RMSE\n",
    "# 2.052336457634882\n",
    "###### RANDOM FOREST REGRESSION #####\n",
    "# MAE\n",
    "# 1.2284603285564488\n",
    "# MSE\n",
    "# 2.3693851275777704\n",
    "# RMSE\n",
    "# 1.5392807176008443\n"
   ]
  },
  {
   "cell_type": "code",
   "execution_count": 53,
   "metadata": {},
   "outputs": [],
   "source": [
    "######TUNING OF THE MODEL######"
   ]
  },
  {
   "cell_type": "code",
   "execution_count": 54,
   "metadata": {},
   "outputs": [
    {
     "name": "stderr",
     "output_type": "stream",
     "text": [
      "C:\\Users\\acer\\Anaconda3\\lib\\site-packages\\ipykernel_launcher.py:5: DataConversionWarning: A column-vector y was passed when a 1d array was expected. Please change the shape of y to (n_samples,), for example using ravel().\n",
      "  \"\"\"\n"
     ]
    }
   ],
   "source": [
    "######## Random Forest Regression ######## \n",
    "# Fitting Random Forest Regression to the dataset\n",
    "from sklearn.ensemble import RandomForestRegressor\n",
    "regressor = RandomForestRegressor(n_estimators = 200, random_state = 0, min_samples_leaf = 5, min_samples_split = 12)\n",
    "model_rf=regressor.fit(X_train, y_train)"
   ]
  },
  {
   "cell_type": "code",
   "execution_count": 55,
   "metadata": {},
   "outputs": [],
   "source": [
    "y_pred = regressor.predict(X_test)"
   ]
  },
  {
   "cell_type": "code",
   "execution_count": 56,
   "metadata": {},
   "outputs": [
    {
     "name": "stdout",
     "output_type": "stream",
     "text": [
      "MAE\n",
      "1.1827316336281253\n",
      "MSE\n",
      "2.137185173791558\n",
      "RMSE\n",
      "1.4619114794650045\n"
     ]
    }
   ],
   "source": [
    "from sklearn import metrics\n",
    "###Printing MAE###\n",
    "print(\"MAE\")\n",
    "print(metrics.mean_absolute_error(y_test,y_pred))\n",
    "###Printing MSE###\n",
    "print(\"MSE\")\n",
    "print(metrics.mean_squared_error(y_test,y_pred))\n",
    "###Printing RMSE###\n",
    "print(\"RMSE\")\n",
    "print(np.sqrt(metrics.mean_squared_error(y_test,y_pred)))\n"
   ]
  },
  {
   "cell_type": "code",
   "execution_count": 34,
   "metadata": {},
   "outputs": [],
   "source": [
    "####### Hyperparameter tuning #######"
   ]
  },
  {
   "cell_type": "code",
   "execution_count": 45,
   "metadata": {},
   "outputs": [],
   "source": [
    "# from sklearn.model_selection import GridSearchCV\n",
    "# # Create the parameter grid based on the results of random search \n",
    "# param_grid = {\n",
    "#     'min_samples_leaf': [3, 4, 5],\n",
    "#     'min_samples_split': [8, 10, 12],\n",
    "#     'n_estimators': [100, 200, 300, 1000]\n",
    "# }\n",
    "# # Create a based model\n",
    "# rf = RandomForestRegressor()\n",
    "# # Instantiate the grid search model\n",
    "# grid_search = GridSearchCV(estimator = rf, param_grid = param_grid, \n",
    "#                           cv = 3, n_jobs = -1, verbose = 2)"
   ]
  },
  {
   "cell_type": "code",
   "execution_count": 46,
   "metadata": {},
   "outputs": [
    {
     "name": "stdout",
     "output_type": "stream",
     "text": [
      "Fitting 3 folds for each of 36 candidates, totalling 108 fits\n"
     ]
    },
    {
     "name": "stderr",
     "output_type": "stream",
     "text": [
      "[Parallel(n_jobs=-1)]: Done  33 tasks      | elapsed:  3.5min\n",
      "[Parallel(n_jobs=-1)]: Done 108 out of 108 | elapsed: 12.8min finished\n",
      "C:\\Users\\acer\\Anaconda3\\lib\\site-packages\\sklearn\\model_selection\\_search.py:739: DataConversionWarning: A column-vector y was passed when a 1d array was expected. Please change the shape of y to (n_samples,), for example using ravel().\n",
      "  self.best_estimator_.fit(X, y, **fit_params)\n"
     ]
    },
    {
     "data": {
      "text/plain": [
       "{'min_samples_leaf': 5, 'min_samples_split': 12, 'n_estimators': 200}"
      ]
     },
     "execution_count": 46,
     "metadata": {},
     "output_type": "execute_result"
    }
   ],
   "source": [
    "# Fit the grid search to the data\n",
    "# grid_search.fit(X_train,y_train)\n",
    "# grid_search.best_params_"
   ]
  },
  {
   "cell_type": "code",
   "execution_count": null,
   "metadata": {},
   "outputs": [],
   "source": []
  }
 ],
 "metadata": {
  "kernelspec": {
   "display_name": "Python 3",
   "language": "python",
   "name": "python3"
  },
  "language_info": {
   "codemirror_mode": {
    "name": "ipython",
    "version": 3
   },
   "file_extension": ".py",
   "mimetype": "text/x-python",
   "name": "python",
   "nbconvert_exporter": "python",
   "pygments_lexer": "ipython3",
   "version": "3.6.5"
  }
 },
 "nbformat": 4,
 "nbformat_minor": 2
}
